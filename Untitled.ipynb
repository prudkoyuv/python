{
 "cells": [
  {
   "cell_type": "code",
   "execution_count": null,
   "id": "d1fb6ae5-90f4-4f7d-ba91-22696bbe9869",
   "metadata": {},
   "outputs": [
    {
     "ename": "",
     "evalue": "",
     "output_type": "error",
     "traceback": [
      "\u001b[1;31mНе удалось запустить ядро. \n",
      "\u001b[1;31mНе удалось запустить ядро \"Python 3.12.6 64-bit\", так как истекло время ожидания подключения. \n",
      "\u001b[1;31mДополнительные сведения см. в <a href='command:jupyter.viewOutput'>журнале Jupyter</a>."
     ]
    }
   ],
   "source": [
    "from datetime import datetime\n",
    "\n",
    "s1 = 'Wednesday, October 2, 2002'\n",
    "s2 = 'Friday, 11.10.13'\n",
    "s3 = 'Thursday, 18 August 1977'\n",
    "\n",
    "\n",
    "def f():\n",
    "    s = input()\n",
    "    try:\n",
    "        return datetime.strptime(s, '%A, %B %d, %Y')\n",
    "    except:\n",
    "        try:\n",
    "            return datetime.strptime(s, '%A, %d.%m.%y')\n",
    "        except:\n",
    "            try:\n",
    "                return datetime.strptime(s, '%A, %d %B %Y')\n",
    "            except:\n",
    "                return f()\n",
    "\n",
    "\n",
    "print(f())\n",
    "from datetime import datetime\n",
    "\n",
    "s1 = 'Wednesday, October 2, 2002'\n",
    "s2 = 'Friday, 11.10.13'\n",
    "s3 = 'Thursday, 18 August 1977'\n",
    "\n",
    "\n",
    "def f():\n",
    "    s = input()\n",
    "    try:\n",
    "        return datetime.strptime(s, '%A, %B %d, %Y')\n",
    "    except:\n",
    "        try:\n",
    "            return datetime.strptime(s, '%A, %d.%m.%y')\n",
    "        except:\n",
    "            try:\n",
    "                return datetime.strptime(s, '%A, %d %B %Y')\n",
    "            except:\n",
    "                return f()\n",
    "\n",
    "\n",
    "print(f())\n"
   ]
  }
 ],
 "metadata": {
  "kernelspec": {
   "display_name": "Python 3.12.6 64-bit",
   "language": "python",
   "name": "python3"
  },
  "language_info": {
   "name": "python",
   "version": "3.12.6"
  },
  "vscode": {
   "interpreter": {
    "hash": "762714c8c20fe45176f5d80e712fd8dc567210f4c309602fbf68e66166269a4c"
   }
  }
 },
 "nbformat": 4,
 "nbformat_minor": 5
}

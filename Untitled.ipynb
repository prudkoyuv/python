{
 "cells": [
  {
   "cell_type": "code",
   "execution_count": null,
   "id": "d1fb6ae5-90f4-4f7d-ba91-22696bbe9869",
   "metadata": {},
   "outputs": [],
   "source": []
  }
 ],
 "metadata": {
  "kernelspec": {
   "display_name": "",
   "name": ""
  },
  "language_info": {
   "name": ""
  }
 },
 "nbformat": 4,
 "nbformat_minor": 5
}
